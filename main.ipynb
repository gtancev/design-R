{
 "cells": [
  {
   "cell_type": "markdown",
   "metadata": {},
   "source": [
    "# Design of Experiments for Low-Cost Sensor Systems\n",
    "\n",
    "Low-cost gas sensors suffer from low performance due to interferences/cross-sensitivities, drifts, and large unit-to-unit variability. Current academic discussion revolves around correcting for interfering variables and improving sensor performance by using mappings, known as calibration functions, obtained from different machine learning algorithms, e.g., neural network, random forest, or (regularized) linear regression. This is a standard regression task and it is still a point of discussion which of these algorithms are most suitable for that kind of application as some algorithms are better than others at coping with non-linear systems.\n",
    "However, recent research has shown that field calibration embedds artificial patterns into calibration models, so representative data from laboratory experiments is needed. The theory of experimental design provides configurations of variables with minimal confounding, i.e., correlations between variables."
   ]
  },
  {
   "cell_type": "code",
   "execution_count": 1,
   "metadata": {},
   "outputs": [],
   "source": [
    "# Import files.\n",
    "import scipy as sp\n",
    "from pyDOE2.doe_factorial import *\n",
    "from pyDOE2.doe_composite import *\n",
    "from pyDOE2.doe_box_behnken import *\n",
    "\n",
    "# Import plotting library.\n",
    "#%matplotlib inline\n",
    "# import matplotlib\n",
    "# import matplotlib.pyplot as plt\n",
    "# from matplotlib import rc\n",
    "# from matplotlib.pyplot import cm\n",
    "# from mpl_toolkits.mplot3d import Axes3D\n",
    "\n",
    "# Define line width and font size of plots\n",
    "#plt.rcParams['lines.linewidth'] = 1.0\n",
    "#plt.rcParams['font.size'] = 6.0\n",
    "#plt.rcParams['axes.titlesize'] = 6.0"
   ]
  },
  {
   "cell_type": "markdown",
   "metadata": {},
   "source": [
    "## Full Factorial Design\n",
    "\n",
    "A factorial design is type of designed experiment that lets you study of the effects that several factors can have on a response. When conducting an experiment, varying the levels of all factors at the same time instead of one at a time lets you study the interactions between the factors.\n",
    "\n",
    "A full factorial design is a design in which researchers measure responses at all combinations of the factor levels:\n",
    "\n",
    "* 2-level full factorial designs that contain only 2-level factors (usually coded as -1 and 1).\n",
    "* general full factorial designs that contain factors with more than two levels.\n",
    "\n",
    "The number of runs necessary for a 2-level full factorial design is 2$^k$ where k is the number of factors. As the number of factors in a 2-level factorial design increases, the number of runs necessary to do a full factorial design increases quickly. For example, a 2-level full factorial design with 6 factors requires 64 runs; a design with 9 factors requires 512 runs. A half-fraction, fractional factorial design would require only half of those runs."
   ]
  },
  {
   "cell_type": "code",
   "execution_count": 4,
   "metadata": {},
   "outputs": [],
   "source": [
    "D = fullfact(7*[2])"
   ]
  },
  {
   "cell_type": "markdown",
   "metadata": {},
   "source": [
    "## Fractional Factorial Designs\n",
    "\n",
    "A fractional design is a design in which experimenters conduct only a selected subset or \"fraction\" of the runs in the full factorial design. Fractional factorial designs are a good choice when resources are limited or the number of factors in the design is large because they use fewer runs than the full factorial designs.\n",
    "\n",
    "A fractional factorial design uses a subset of a full factorial design, so some of the main effects and two-way interactions are confounded and cannot be separated from the effects of other higher-order interactions. Usually experimenters are willing to assume the higher-order effects are negligible in order to achieve information about main effects and low-order interactions with fewer runs.\n",
    "\n",
    "The successful use of fractional factorial designs is based on three key ideas:\n",
    "1. **The sparsity principle.** When there are several variables, the system or process is likely to be driven primarly by some of the main effects and low-order interactions.\n",
    "2. **The projection property.** Fractional factorial designs can be projected into stronger (larger) designs in the subset of significant factors.\n",
    "3. **Sequential experimentation.** It is possible to combine the runs of two (or more) fractional factorials to construct sequentially larger designs to estimate the factor effects and interactions of interest.\n",
    "\n",
    "### Design Resolution\n",
    "\n",
    "Design resolutions describe how much the effects in a fractional factorial design are aliased with other effects. When you do a fractional factorial design, one or more of the effects are confounded, meaning they cannot be estimated separately from each other. Usually, you want to use a fractional factorial design with the highest possible resolution for the amount of fractionation required. For example, it is usually better to choose a design where main effects are confounded with three-way interactions (Resolution IV) instead of a design where main effects are confounded with two-way interactions (Resolution III).\n",
    "\n",
    "Resolution III, IV, and V designs are most common:\n",
    "\n",
    "**Resolution III**\n",
    "* No main effects are aliased with any other main effect, but main effects are aliased with 2-factor interactions.\n",
    "\n",
    "**Resolution IV**\n",
    "* No main effects are aliased with any other main effect or 2-factor interactions, but some 2-factor interactions are aliased with other 2-factor interactions and main effects are aliased with 3-factor interactions.\n",
    "\n",
    "**Resolution V**\n",
    "* No main effects or 2-factor interactions are aliased with any other main effect or 2-factor interactions, but 2-factor interactions are aliased with 3-factor interactions and main effects are aliased with 4-factor interactions.\n",
    "\n",
    "### Finding the Alias Structure of a Fractional Factorial Design\n",
    "The entire set of aliases in a fractional factorial design is called the alias structure of the design. There is a fairly easy method for writing down the alias structure of a fractional design. This method depends on some simple observations about multiplying columns of +1's and -1's:\n",
    "\n",
    "1. The letter I denotes the column consisting entirely of +1's.\n",
    "2. Note that any column multiplied by itself yields column I. For example, A·A = A$^2$ = I, B·B = B$^2$ = I, and so forth.\n",
    "3. Multiplying column I by any other column does not change the column. For example, A·I = I·A = A.\n",
    "\n",
    "Using these facts, we can obtain the alias structure of any fractional factorial as follows:\n",
    "\n",
    "1. First, write the p assignments of additional factors in equation form. These p equations are called the **design generators**.\n",
    "2. Multiply each generator from step 1 by its left side to put each generator into the form I = w, where w is a \"word\" composed of several letters representing particular experimental factors (e.g., D = ABC becomes I = ABCD). It is also possible tocreate words with \"-\" signs, such as D = -ABC. If this is done, the resulting design will use a different fraction of the runs from the full 2$^k$ design.\n",
    "3. Letting I = w$_1$, I = w$_2$, ..., I = w$_p$ denote the p design generators from step 2, form all possible products of the words w$_i$ (one at a time, two at a time, three at a time, etc.). Use the fact that squares of factors can be eliminated (e.g., A$^2$ = I and multiplying by I does not change anything). There will be a total of 2$^p$ words formed. This collection is called the **defining relation** of the design.\n",
    "4. Multiply each word in the defining relation by all 2$^k$ - 1 effects based on k factors. Use the fact that squares of factors cancel out to simplify the products. The result is called the **alias structure** of the design."
   ]
  },
  {
   "cell_type": "markdown",
   "metadata": {},
   "source": [
    "### Resolution III\n",
    "\n",
    "In this design, main effects are **confounded** with two-factor interactions."
   ]
  },
  {
   "cell_type": "code",
   "execution_count": 14,
   "metadata": {},
   "outputs": [
    {
     "name": "stdout",
     "output_type": "stream",
     "text": [
      "[[-1. -1. -1.  1.  1.  1. -1.]\n",
      " [ 1. -1. -1. -1. -1.  1.  1.]\n",
      " [-1.  1. -1. -1.  1. -1.  1.]\n",
      " [ 1.  1. -1.  1. -1. -1. -1.]\n",
      " [-1. -1.  1.  1. -1. -1.  1.]\n",
      " [ 1. -1.  1. -1.  1. -1. -1.]\n",
      " [-1.  1.  1. -1. -1.  1. -1.]\n",
      " [ 1.  1.  1.  1.  1.  1.  1.]]\n"
     ]
    }
   ],
   "source": [
    "# Create a design of Resolution III.\n",
    "design = \"A B C AB AC BC ABC\" # This is the design generator: I = ABD = ACE = BCF = ABCD\n",
    "D3 = fracfact(design)\n",
    "print(D3)"
   ]
  },
  {
   "cell_type": "code",
   "execution_count": 21,
   "metadata": {},
   "outputs": [
    {
     "data": {
      "text/plain": [
       "array([[-1., -1.,  1.],\n",
       "       [ 1., -1., -1.],\n",
       "       [-1.,  1., -1.],\n",
       "       [ 1.,  1.,  1.]])"
      ]
     },
     "execution_count": 21,
     "metadata": {},
     "output_type": "execute_result"
    }
   ],
   "source": [
    "fracfact(\"A B AB\")"
   ]
  },
  {
   "cell_type": "markdown",
   "metadata": {},
   "source": [
    "### Resolution IV\n",
    "\n",
    "In this design, main effects are **unconfounded** by two-factor interactions. Some two-factor interaction effects are **confounded** with other two-factor interactions."
   ]
  },
  {
   "cell_type": "code",
   "execution_count": 12,
   "metadata": {},
   "outputs": [
    {
     "name": "stdout",
     "output_type": "stream",
     "text": [
      "[[-1. -1. -1. -1. -1. -1. -1.]\n",
      " [ 1. -1. -1. -1.  1. -1.  1.]\n",
      " [-1.  1. -1. -1.  1.  1. -1.]\n",
      " [ 1.  1. -1. -1. -1.  1.  1.]\n",
      " [-1. -1.  1. -1.  1.  1.  1.]\n",
      " [ 1. -1.  1. -1. -1.  1. -1.]\n",
      " [-1.  1.  1. -1. -1. -1.  1.]\n",
      " [ 1.  1.  1. -1.  1. -1. -1.]\n",
      " [-1. -1. -1.  1. -1.  1.  1.]\n",
      " [ 1. -1. -1.  1.  1.  1. -1.]\n",
      " [-1.  1. -1.  1.  1. -1.  1.]\n",
      " [ 1.  1. -1.  1. -1. -1. -1.]\n",
      " [-1. -1.  1.  1.  1. -1. -1.]\n",
      " [ 1. -1.  1.  1. -1. -1.  1.]\n",
      " [-1.  1.  1.  1. -1.  1. -1.]\n",
      " [ 1.  1.  1.  1.  1.  1.  1.]]\n"
     ]
    }
   ],
   "source": [
    "# Create a design of Resolution IV.\n",
    "design = \"A B C D ABC BCD ACD\" # This is the design generator: I = ABCE = BCDF = ACDG\n",
    "D4 = fracfact(design)\n",
    "print(D4)"
   ]
  },
  {
   "cell_type": "markdown",
   "metadata": {},
   "source": [
    "### Resolution VII\n",
    "\n",
    "In this design, main effects are **unconfounded** by many higher order interactions. Some higher-factor interaction effects are **confounded** with other higher order interactions."
   ]
  },
  {
   "cell_type": "code",
   "execution_count": 2,
   "metadata": {},
   "outputs": [
    {
     "name": "stdout",
     "output_type": "stream",
     "text": [
      "[[-1. -1. -1. -1.  1. -1.]\n",
      " [ 1. -1. -1. -1. -1.  1.]\n",
      " [-1.  1. -1. -1. -1.  1.]\n",
      " [ 1.  1. -1. -1.  1. -1.]\n",
      " [-1. -1.  1. -1. -1.  1.]\n",
      " [ 1. -1.  1. -1.  1. -1.]\n",
      " [-1.  1.  1. -1.  1. -1.]\n",
      " [ 1.  1.  1. -1. -1.  1.]\n",
      " [-1. -1. -1.  1. -1. -1.]\n",
      " [ 1. -1. -1.  1.  1.  1.]\n",
      " [-1.  1. -1.  1.  1.  1.]\n",
      " [ 1.  1. -1.  1. -1. -1.]\n",
      " [-1. -1.  1.  1.  1.  1.]\n",
      " [ 1. -1.  1.  1. -1. -1.]\n",
      " [-1.  1.  1.  1. -1. -1.]\n",
      " [ 1.  1.  1.  1.  1.  1.]]\n"
     ]
    }
   ],
   "source": [
    "# Create another design of Resolution IV.\n",
    "design = \"A B C D ABCD ABC\"\n",
    "D7 = fracfact(design)\n",
    "print(D7)"
   ]
  },
  {
   "cell_type": "code",
   "execution_count": 21,
   "metadata": {},
   "outputs": [],
   "source": [
    "k = 3\n",
    "d_full = ff2n(k)\n",
    "d_fract = fracfact(\"A B AB\")\n",
    "d_full3 = fullfact(k*[3])-1.0\n",
    "d_composite = ccdesign(k, center=(1, 0), alpha=\"r\", face=\"ccc\")\n",
    "d_bb = bbdesign(k, center=1)"
   ]
  },
  {
   "cell_type": "code",
   "execution_count": 69,
   "metadata": {},
   "outputs": [
    {
     "data": {
      "image/png": "[encoded data removed]",
      "text/plain": [
       "<Figure size 254.88x254.88 with 1 Axes>"
      ]
     },
     "metadata": {
      "needs_background": "light"
     },
     "output_type": "display_data"
    }
   ],
   "source": [
    "fig = plt.figure(figsize=(1.2*2.95,1.2*2.95))\n",
    "ax = fig.add_subplot(111, projection=\"3d\")\n",
    "ax.scatter(d_full[:,0], d_full[:,1], d_full[:,2], color=plt.cm.Greys(255), marker=\"o\", s=80, depthshade=True)\n",
    "ax.set_xlabel(\"$x_2$\")\n",
    "ax.set_ylabel(\"$x_1$\")\n",
    "ax.set_zlabel(\"$x_3$\")\n",
    "ax.set_xticks((-1, 0, 1))\n",
    "ax.set_yticks((-1, 0, 1))\n",
    "ax.set_zticks((-1, 0, 1))\n",
    "ax.view_init(10, 10)\n",
    "plt.savefig(\"./figures/fullfact\",dpi=1200,transparent=True,orientation=\"landscape\",bbox_inches=\"tight\")\n",
    "plt.show()"
   ]
  },
  {
   "cell_type": "code",
   "execution_count": 70,
   "metadata": {},
   "outputs": [
    {
     "data": {
      "image/png": "[encoded data removed]",
      "text/plain": [
       "<Figure size 254.88x254.88 with 1 Axes>"
      ]
     },
     "metadata": {
      "needs_background": "light"
     },
     "output_type": "display_data"
    }
   ],
   "source": [
    "fig = plt.figure(figsize=(1.2*2.95,1.2*2.95))\n",
    "ax = fig.add_subplot(111, projection=\"3d\")\n",
    "ax.scatter(d_fract[:,0], d_fract[:,1], d_fract[:,2], color=plt.cm.Greys(255), marker=\"o\", s=80, depthshade=True)\n",
    "ax.set_xlabel(\"$x_2$\")\n",
    "ax.set_ylabel(\"$x_1$\")\n",
    "ax.set_zlabel(\"$x_3$\")\n",
    "ax.set_xticks((-1, 0, 1))\n",
    "ax.set_yticks((-1, 0, 1))\n",
    "ax.set_zticks((-1, 0, 1))\n",
    "ax.view_init(10, 10)\n",
    "plt.savefig(\"./figures/fracfact\",dpi=1200,transparent=True,orientation=\"landscape\",bbox_inches=\"tight\")\n",
    "plt.show()"
   ]
  },
  {
   "cell_type": "code",
   "execution_count": 76,
   "metadata": {},
   "outputs": [
    {
     "data": {
      "image/png": "[encoded data removed]",
      "text/plain": [
       "<Figure size 254.88x254.88 with 1 Axes>"
      ]
     },
     "metadata": {
      "needs_background": "light"
     },
     "output_type": "display_data"
    }
   ],
   "source": [
    "fig = plt.figure(figsize=(1.2*2.95,1.2*2.95))\n",
    "ax = fig.add_subplot(111, projection=\"3d\")\n",
    "ax.scatter(d_full3[:,0], d_full3[:,1], d_full3[:,2], color=plt.cm.Greys(255), marker=\"o\", s=80, depthshade=True)\n",
    "ax.set_xlabel(\"$x_2$\")\n",
    "ax.set_ylabel(\"$x_1$\")\n",
    "ax.set_zlabel(\"$x_3$\")\n",
    "ax.set_xticks((-1, 0, 1))\n",
    "ax.set_yticks((-1, 0, 1))\n",
    "ax.set_zticks((-1, 0, 1))\n",
    "ax.view_init(10, 10)\n",
    "plt.savefig(\"./figures/fullfact3\",dpi=1200,transparent=True,orientation=\"landscape\",bbox_inches=\"tight\")\n",
    "plt.show()"
   ]
  },
  {
   "cell_type": "code",
   "execution_count": 80,
   "metadata": {},
   "outputs": [
    {
     "data": {
      "image/png": "[encoded data removed]",
      "text/plain": [
       "<Figure size 254.88x254.88 with 1 Axes>"
      ]
     },
     "metadata": {
      "needs_background": "light"
     },
     "output_type": "display_data"
    }
   ],
   "source": [
    "fig = plt.figure(figsize=(1.2*2.95,1.2*2.95))\n",
    "ax = fig.add_subplot(111, projection=\"3d\")\n",
    "ax.scatter(d_bb[:,0], d_bb[:,1], d_bb[:,2], color=plt.cm.Greys(255), marker=\"o\", s=80, depthshade=True)\n",
    "ax.set_xlabel(\"$x_2$\")\n",
    "ax.set_ylabel(\"$x_1$\")\n",
    "ax.set_zlabel(\"$x_3$\")\n",
    "ax.set_xticks((-1, 0, 1))\n",
    "ax.set_yticks((-1, 0, 1))\n",
    "ax.set_zticks((-1, 0, 1))\n",
    "ax.view_init(10, 10)\n",
    "plt.savefig(\"./figures/bb\",dpi=1200,transparent=True,orientation=\"landscape\",bbox_inches=\"tight\")\n",
    "plt.show()"
   ]
  },
  {
   "cell_type": "code",
   "execution_count": 84,
   "metadata": {},
   "outputs": [
    {
     "data": {
      "image/png": "[encoded data removed]",
      "text/plain": [
       "<Figure size 254.88x254.88 with 1 Axes>"
      ]
     },
     "metadata": {
      "needs_background": "light"
     },
     "output_type": "display_data"
    }
   ],
   "source": [
    "fig = plt.figure(figsize=(1.2*2.95,1.2*2.95))\n",
    "ax = fig.add_subplot(111, projection=\"3d\")\n",
    "ax.scatter(d_composite[:,0], d_composite[:,1], d_composite[:,2], color=plt.cm.Greys(255), marker=\"o\", s=80, depthshade=True)\n",
    "ax.set_xlabel(\"$x_2$\")\n",
    "ax.set_ylabel(\"$x_1$\")\n",
    "ax.set_zlabel(\"$x_3$\")\n",
    "ax.set_xticks((-1, 0, 1))\n",
    "ax.set_yticks((-1, 0, 1))\n",
    "ax.set_zticks((-1, 0, 1))\n",
    "ax.view_init(10, 10)\n",
    "plt.savefig(\"./figures/cc\",dpi=1200,transparent=True,orientation=\"landscape\",bbox_inches=\"tight\")\n",
    "plt.show()"
   ]
  }
 ],
 "metadata": {
  "kernelspec": {
   "display_name": "Python 3",
   "language": "python",
   "name": "python3"
  },
  "language_info": {
   "codemirror_mode": {
    "name": "ipython",
    "version": 3
   },
   "file_extension": ".py",
   "mimetype": "text/x-python",
   "name": "python",
   "nbconvert_exporter": "python",
   "pygments_lexer": "ipython3",
   "version": "3.7.9"
  }
 },
 "nbformat": 4,
 "nbformat_minor": 4
}
